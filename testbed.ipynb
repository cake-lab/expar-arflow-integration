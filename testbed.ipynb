{
 "cells": [
  {
   "cell_type": "code",
   "execution_count": 1,
   "metadata": {},
   "outputs": [],
   "source": [
    "import numpy as np\n",
    "import numpy.typing as npt"
   ]
  },
  {
   "cell_type": "code",
   "execution_count": 8,
   "metadata": {},
   "outputs": [],
   "source": [
    "def unity_to_right_handed(matrix: npt.NDArray) -> npt.NDArray:\n",
    "    \"\"\"\n",
    "    Convert a 4x4 transformation matrix from Unity's left-handed\n",
    "    (Y-up) coordinate system to a right-handed system where\n",
    "    Y is up, X is to the right, and Z points toward the viewer.\n",
    "\n",
    "    Parameters\n",
    "    ----------\n",
    "    matrix : np.ndarray\n",
    "        A 4x4 NumPy array representing the pose in Unity's coordinate system.\n",
    "\n",
    "    Returns\n",
    "    -------\n",
    "    np.ndarray\n",
    "        A 4x4 NumPy array representing the equivalent pose\n",
    "        in the specified right-handed coordinate system.\n",
    "    \"\"\"\n",
    "    # 1) Flip Z to convert from LH to RH\n",
    "    flip_z = np.diag([1, 1, -1, 1])\n",
    "\n",
    "    # Phone orientation fix.\n",
    "    # 2) Define rotation about Z by -90 degrees\n",
    "    #    In a typical right-handed system, this matrix is:\n",
    "    #      [  0   1   0   0 ]\n",
    "    #      [ -1   0   0   0 ]\n",
    "    #      [  0   0   1   0 ]\n",
    "    #      [  0   0   0   1 ]\n",
    "    rz_neg_90 = np.array(\n",
    "        [[0, 1, 0, 0], [-1, 0, 0, 0], [0, 0, 1, 0], [0, 0, 0, 1]], dtype=float\n",
    "    )\n",
    "\n",
    "    # 3) Combine: flip_z * M_Unity * flip_z => Right-handed\n",
    "    #    Then multiply on the left by Rz(-90) to do the final rotation.\n",
    "    return flip_z @ matrix @ flip_z"
   ]
  },
  {
   "cell_type": "code",
   "execution_count": 9,
   "metadata": {},
   "outputs": [
    {
     "name": "stdout",
     "output_type": "stream",
     "text": [
      "[[0.       0.       0.       4.111246]\n",
      " [0.       0.       0.       2.055851]\n",
      " [0.       0.       0.       4.253376]\n",
      " [0.       0.       0.       1.      ]]\n"
     ]
    },
    {
     "data": {
      "text/plain": [
       "array([[ 0.      ,  0.      ,  0.      ,  4.111246],\n",
       "       [ 0.      ,  0.      ,  0.      ,  2.055851],\n",
       "       [ 0.      ,  0.      ,  0.      , -4.253376],\n",
       "       [ 0.      ,  0.      ,  0.      ,  1.      ]])"
      ]
     },
     "execution_count": 9,
     "metadata": {},
     "output_type": "execute_result"
    }
   ],
   "source": [
    "pt = np.array([[0, 0, 0, 0], [0, 0, 0, 0], [0, 0, 0, 0], [4.111246, 2.055851, 4.253376, 1]]).T\n",
    "\n",
    "print(pt)\n",
    "unity_to_right_handed(pt)"
   ]
  },
  {
   "cell_type": "code",
   "execution_count": null,
   "metadata": {},
   "outputs": [],
   "source": []
  },
  {
   "cell_type": "code",
   "execution_count": null,
   "metadata": {},
   "outputs": [],
   "source": []
  }
 ],
 "metadata": {
  "kernelspec": {
   "display_name": "expar-arflow-integration-_gfBLfNs-py3.12",
   "language": "python",
   "name": "python3"
  },
  "language_info": {
   "codemirror_mode": {
    "name": "ipython",
    "version": 3
   },
   "file_extension": ".py",
   "mimetype": "text/x-python",
   "name": "python",
   "nbconvert_exporter": "python",
   "pygments_lexer": "ipython3",
   "version": "3.12.9"
  }
 },
 "nbformat": 4,
 "nbformat_minor": 2
}
